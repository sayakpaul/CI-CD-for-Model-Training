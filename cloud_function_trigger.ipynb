{
  "nbformat": 4,
  "nbformat_minor": 0,
  "metadata": {
    "kernelspec": {
      "display_name": "Python 3",
      "language": "python",
      "name": "python3"
    },
    "language_info": {
      "codemirror_mode": {
        "name": "ipython",
        "version": 3
      },
      "file_extension": ".py",
      "mimetype": "text/x-python",
      "name": "python",
      "nbconvert_exporter": "python",
      "pygments_lexer": "ipython3",
      "version": "3.8.6"
    },
    "colab": {
      "name": "cloud_function_trigger.ipynb",
      "provenance": [],
      "include_colab_link": true
    }
  },
  "cells": [
    {
      "cell_type": "markdown",
      "metadata": {
        "id": "view-in-github",
        "colab_type": "text"
      },
      "source": [
        "<a href=\"https://colab.research.google.com/github/sayakpaul/CI-CD-for-Model-Training/blob/dev/cloud_function_trigger.ipynb\" target=\"_parent\"><img src=\"https://colab.research.google.com/assets/colab-badge.svg\" alt=\"Open In Colab\"/></a>"
      ]
    },
    {
      "cell_type": "markdown",
      "metadata": {
        "id": "ZhYmiSEZSIBl"
      },
      "source": [
        "## References\n",
        "\n",
        "* https://github.com/GoogleCloudPlatform/mlops-with-vertex-ai/blob/main/05-continuous-training.ipynb"
      ]
    },
    {
      "cell_type": "markdown",
      "metadata": {
        "id": "PqwV9XW-of3W"
      },
      "source": [
        "## Setting up"
      ]
    },
    {
      "cell_type": "code",
      "metadata": {
        "id": "IqkPzmaXVNPU"
      },
      "source": [
        "!pip install --upgrade -q google-cloud-pubsub"
      ],
      "execution_count": null,
      "outputs": []
    },
    {
      "cell_type": "markdown",
      "metadata": {
        "id": "l2RDeydWpULu"
      },
      "source": [
        "### ***Restart runtime.***"
      ]
    },
    {
      "cell_type": "code",
      "metadata": {
        "id": "6Ii493lzSIBm"
      },
      "source": [
        "!gcloud init"
      ],
      "execution_count": null,
      "outputs": []
    },
    {
      "cell_type": "code",
      "metadata": {
        "id": "wAkLWKYRSIBm"
      },
      "source": [
        "from google.colab import auth\n",
        "auth.authenticate_user()"
      ],
      "execution_count": 1,
      "outputs": []
    },
    {
      "cell_type": "code",
      "metadata": {
        "id": "EbQKTTkuSIBn"
      },
      "source": [
        "GOOGLE_CLOUD_PROJECT = 'fast-ai-exploration'    \n",
        "GOOGLE_CLOUD_REGION = 'us-central1'      \n",
        "GCS_BUCKET_NAME = 'vertex-tfx-mlops'     \n",
        "\n",
        "PIPELINE_NAME = 'penguin-vertex-training'\n",
        "PIPELINE_ROOT = 'gs://{}/pipeline_root/{}'.format(GCS_BUCKET_NAME, PIPELINE_NAME)\n",
        "PIPELINE_LOCATION = f'{PIPELINE_ROOT}/{PIPELINE_NAME}.json'\n",
        "PUBSUB_TOPIC = f'trigger-{PIPELINE_NAME}'\n",
        "\n",
        "DATA_ROOT = 'gs://{}/data/{}'.format(GCS_BUCKET_NAME, PIPELINE_NAME)\n",
        "MODULE_ROOT = 'gs://{}/pipeline_module/{}'.format(GCS_BUCKET_NAME, PIPELINE_NAME)\n",
        "\n",
        "if not (GOOGLE_CLOUD_PROJECT and GOOGLE_CLOUD_REGION and GCS_BUCKET_NAME):\n",
        "    from absl import logging\n",
        "    logging.error('Please set all required parameters.')"
      ],
      "execution_count": 2,
      "outputs": []
    },
    {
      "cell_type": "markdown",
      "metadata": {
        "id": "lFt8n26ioh3F"
      },
      "source": [
        "## Create Pub/Sub Topic"
      ]
    },
    {
      "cell_type": "code",
      "metadata": {
        "id": "FWoEAmZPSIBn",
        "outputId": "011a6d49-118d-4f47-eb87-77e16a58553f",
        "colab": {
          "base_uri": "https://localhost:8080/"
        }
      },
      "source": [
        "!gcloud pubsub topics create {PUBSUB_TOPIC}"
      ],
      "execution_count": 4,
      "outputs": [
        {
          "output_type": "stream",
          "text": [
            "Created topic [projects/fast-ai-exploration/topics/trigger-penguin-vertex-training].\n"
          ],
          "name": "stdout"
        }
      ]
    },
    {
      "cell_type": "markdown",
      "metadata": {
        "id": "SC__1_EQolF_"
      },
      "source": [
        "## Deploy Cloud Function"
      ]
    },
    {
      "cell_type": "code",
      "metadata": {
        "id": "v5AMI17vSIBn"
      },
      "source": [
        "ENV_VARS=f\"\"\"\\\n",
        "PROJECT={GOOGLE_CLOUD_PROJECT},\\\n",
        "REGION={GOOGLE_CLOUD_REGION},\\\n",
        "GCS_PIPELINE_FILE_LOCATION={PIPELINE_LOCATION}\n",
        "\"\"\"\n",
        "\n",
        "!echo {ENV_VARS}"
      ],
      "execution_count": null,
      "outputs": []
    },
    {
      "cell_type": "code",
      "metadata": {
        "id": "nHQMTMp-SIBo",
        "outputId": "4fefe994-cabc-4ed6-fc83-abc18742869d",
        "colab": {
          "base_uri": "https://localhost:8080/"
        }
      },
      "source": [
        "!git clone -b dev https://github.com/sayakpaul/CI-CD-for-Model-Training --quiet\n",
        "%cd CI-CD-for-Model-Training"
      ],
      "execution_count": 6,
      "outputs": [
        {
          "output_type": "stream",
          "text": [
            "/content/CI-CD-for-Model-Training\n"
          ],
          "name": "stdout"
        }
      ]
    },
    {
      "cell_type": "code",
      "metadata": {
        "id": "QBM3Ex75SIBo"
      },
      "source": [
        "BUCKET = f'gs://{GCS_BUCKET_NAME}'\n",
        "CLOUD_FUNCTION_NAME = f'trigger-{PIPELINE_NAME}-fn'\n",
        "\n",
        "!gcloud functions deploy {CLOUD_FUNCTION_NAME} \\\n",
        "    --region={GOOGLE_CLOUD_REGION} \\\n",
        "    --trigger-topic={PUBSUB_TOPIC} \\\n",
        "    --runtime=python37 \\\n",
        "    --source=cloud_function\\\n",
        "    --entry-point=trigger_pipeline\\\n",
        "    --stage-bucket={BUCKET}\\\n",
        "    --update-env-vars={ENV_VARS}\n",
        "\n",
        "# `trigger_pipeline` is the name of the function inside\n",
        "# `cloud_function/main.py`"
      ],
      "execution_count": null,
      "outputs": []
    },
    {
      "cell_type": "code",
      "metadata": {
        "id": "8QeF7bTlUgCT",
        "outputId": "81913d6f-f4a9-4e3c-aba0-2edf147c1bdd",
        "colab": {
          "base_uri": "https://localhost:8080/",
          "height": 34
        }
      },
      "source": [
        "import IPython \n",
        "\n",
        "cloud_fn_url = f\"https://console.cloud.google.com/functions/details/{GOOGLE_CLOUD_REGION}/{CLOUD_FUNCTION_NAME}\"\n",
        "html = f'See the Cloud Function details <a href=\"{cloud_fn_url}\" target=\"_blank\">here</a>.'\n",
        "IPython.display.display(IPython.display.HTML(html))"
      ],
      "execution_count": 15,
      "outputs": [
        {
          "output_type": "display_data",
          "data": {
            "text/html": [
              "See the Cloud Function details <a href=\"https://console.cloud.google.com/functions/details/us-central1/trigger-penguin-vertex-training-fn\" target=\"_blank\">here</a>."
            ],
            "text/plain": [
              "<IPython.core.display.HTML object>"
            ]
          },
          "metadata": {}
        }
      ]
    },
    {
      "cell_type": "markdown",
      "metadata": {
        "id": "Z5A3YmEYopEO"
      },
      "source": [
        "## Public Topic Message "
      ]
    },
    {
      "cell_type": "code",
      "metadata": {
        "id": "wDkveFuQSIBp"
      },
      "source": [
        "from google.cloud import pubsub\n",
        "import json\n",
        "\n",
        "publish_client = pubsub.PublisherClient()\n",
        "topic = f'projects/{GOOGLE_CLOUD_PROJECT}/topics/{PUBSUB_TOPIC}'\n",
        "data = {\n",
        "    'num_epochs': 3,\n",
        "    'batch_size': 64,\n",
        "    'learning_rate': 1e-2\n",
        "}\n",
        "message = json.dumps(data)\n",
        "\n",
        "_ = publish_client.publish(topic, message.encode())"
      ],
      "execution_count": 4,
      "outputs": []
    },
    {
      "cell_type": "markdown",
      "metadata": {
        "id": "IP_AIR7TV5aQ"
      },
      "source": [
        "The pipeline should be available on the [Vertex AI Pipelines dashboard](https://console.cloud.google.com/vertex-ai/pipelines)."
      ]
    }
  ]
}