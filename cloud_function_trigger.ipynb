{
 "cells": [
  {
   "cell_type": "markdown",
   "metadata": {
    "colab_type": "text",
    "id": "view-in-github"
   },
   "source": [
    "<a href=\"https://colab.research.google.com/github/sayakpaul/CI-CD-for-Model-Training/blob/main/cloud_function_trigger.ipynb\" target=\"_parent\"><img src=\"https://colab.research.google.com/assets/colab-badge.svg\" alt=\"Open In Colab\"/></a>"
   ]
  },
  {
   "cell_type": "markdown",
   "metadata": {
    "id": "ZhYmiSEZSIBl"
   },
   "source": [
    "## References\n",
    "\n",
    "* https://github.com/GoogleCloudPlatform/mlops-with-vertex-ai/blob/main/05-continuous-training.ipynb"
   ]
  },
  {
   "cell_type": "markdown",
   "metadata": {
    "id": "PqwV9XW-of3W"
   },
   "source": [
    "## Setting up"
   ]
  },
  {
   "cell_type": "code",
   "execution_count": null,
   "metadata": {
    "id": "IqkPzmaXVNPU"
   },
   "outputs": [],
   "source": [
    "!pip install --upgrade -q google-cloud-pubsub"
   ]
  },
  {
   "cell_type": "markdown",
   "metadata": {
    "id": "l2RDeydWpULu"
   },
   "source": [
    "### ***Restart runtime.***"
   ]
  },
  {
   "cell_type": "code",
   "execution_count": null,
   "metadata": {
    "id": "6Ii493lzSIBm"
   },
   "outputs": [],
   "source": [
    "!gcloud init"
   ]
  },
  {
   "cell_type": "code",
   "execution_count": null,
   "metadata": {
    "id": "wAkLWKYRSIBm"
   },
   "outputs": [],
   "source": [
    "from google.colab import auth\n",
    "auth.authenticate_user()"
   ]
  },
  {
   "cell_type": "code",
   "execution_count": null,
   "metadata": {
    "id": "EbQKTTkuSIBn"
   },
   "outputs": [],
   "source": [
    "GOOGLE_CLOUD_PROJECT = \"fast-ai-exploration\"\n",
    "GOOGLE_CLOUD_REGION = \"us-central1\"\n",
    "GCS_BUCKET_NAME = \"vertex-tfx-mlops\"\n",
    "\n",
    "PIPELINE_NAME = \"penguin-vertex-training\"\n",
    "PIPELINE_ROOT = \"gs://{}/pipeline_root/{}\".format(GCS_BUCKET_NAME, PIPELINE_NAME)\n",
    "PIPELINE_LOCATION = f\"{PIPELINE_ROOT}/{PIPELINE_NAME}.json\"\n",
    "PUBSUB_TOPIC = f\"trigger-{PIPELINE_NAME}\"\n",
    "\n",
    "DATA_ROOT = \"gs://{}/data/{}\".format(GCS_BUCKET_NAME, PIPELINE_NAME)\n",
    "MODULE_ROOT = \"gs://{}/pipeline_module/{}\".format(GCS_BUCKET_NAME, PIPELINE_NAME)\n",
    "\n",
    "if not (GOOGLE_CLOUD_PROJECT and GOOGLE_CLOUD_REGION and GCS_BUCKET_NAME):\n",
    "    from absl import logging\n",
    "\n",
    "    logging.error(\"Please set all required parameters.\")"
   ]
  },
  {
   "cell_type": "markdown",
   "metadata": {
    "id": "lFt8n26ioh3F"
   },
   "source": [
    "## Create Pub/Sub Topic"
   ]
  },
  {
   "cell_type": "code",
   "execution_count": null,
   "metadata": {
    "id": "FWoEAmZPSIBn"
   },
   "outputs": [],
   "source": [
    "!gcloud pubsub topics create {PUBSUB_TOPIC}"
   ]
  },
  {
   "cell_type": "markdown",
   "metadata": {
    "id": "SC__1_EQolF_"
   },
   "source": [
    "## Deploy Cloud Function"
   ]
  },
  {
   "cell_type": "code",
   "execution_count": null,
   "metadata": {
    "id": "v5AMI17vSIBn"
   },
   "outputs": [],
   "source": [
    "ENV_VARS=f\"\"\"\\\n",
    "PROJECT={GOOGLE_CLOUD_PROJECT},\\\n",
    "REGION={GOOGLE_CLOUD_REGION},\\\n",
    "GCS_PIPELINE_FILE_LOCATION={PIPELINE_LOCATION}\n",
    "\"\"\"\n",
    "\n",
    "!echo {ENV_VARS}"
   ]
  },
  {
   "cell_type": "code",
   "execution_count": null,
   "metadata": {
    "id": "nHQMTMp-SIBo"
   },
   "outputs": [],
   "source": [
    "!git clone -b dev https://github.com/sayakpaul/CI-CD-for-Model-Training --quiet\n",
    "%cd CI-CD-for-Model-Training"
   ]
  },
  {
   "cell_type": "code",
   "execution_count": null,
   "metadata": {
    "id": "QBM3Ex75SIBo"
   },
   "outputs": [],
   "source": [
    "BUCKET = f'gs://{GCS_BUCKET_NAME}'\n",
    "CLOUD_FUNCTION_NAME = f'trigger-{PIPELINE_NAME}-fn'\n",
    "\n",
    "!gcloud functions deploy {CLOUD_FUNCTION_NAME} \\\n",
    "    --region={GOOGLE_CLOUD_REGION} \\\n",
    "    --trigger-topic={PUBSUB_TOPIC} \\\n",
    "    --runtime=python37 \\\n",
    "    --source=cloud_function\\\n",
    "    --entry-point=trigger_pipeline\\\n",
    "    --stage-bucket={BUCKET}\\\n",
    "    --update-env-vars={ENV_VARS}\n",
    "\n",
    "# `trigger_pipeline` is the name of the function inside\n",
    "# `cloud_function/main.py`"
   ]
  },
  {
   "cell_type": "code",
   "execution_count": null,
   "metadata": {
    "id": "8QeF7bTlUgCT"
   },
   "outputs": [],
   "source": [
    "import IPython\n",
    "\n",
    "cloud_fn_url = f\"https://console.cloud.google.com/functions/details/{GOOGLE_CLOUD_REGION}/{CLOUD_FUNCTION_NAME}\"\n",
    "html = (\n",
    "    f'See the Cloud Function details <a href=\"{cloud_fn_url}\" target=\"_blank\">here</a>.'\n",
    ")\n",
    "IPython.display.display(IPython.display.HTML(html))"
   ]
  },
  {
   "cell_type": "markdown",
   "metadata": {
    "id": "Z5A3YmEYopEO"
   },
   "source": [
    "## Public Topic Message "
   ]
  },
  {
   "cell_type": "code",
   "execution_count": null,
   "metadata": {
    "id": "wDkveFuQSIBp"
   },
   "outputs": [],
   "source": [
    "from google.cloud import pubsub\n",
    "import json\n",
    "\n",
    "publish_client = pubsub.PublisherClient()\n",
    "topic = f\"projects/{GOOGLE_CLOUD_PROJECT}/topics/{PUBSUB_TOPIC}\"\n",
    "data = {\"num_epochs\": 3, \"learning_rate\": 1e-2}\n",
    "message = json.dumps(data)\n",
    "\n",
    "_ = publish_client.publish(topic, message.encode())"
   ]
  },
  {
   "cell_type": "markdown",
   "metadata": {
    "id": "IP_AIR7TV5aQ"
   },
   "source": [
    "The pipeline should be available on the [Vertex AI Pipelines dashboard](https://console.cloud.google.com/vertex-ai/pipelines).\n",
    "\n",
    "![](https://i.ibb.co/m9bYf3R/image.png)"
   ]
  }
 ],
 "metadata": {
  "colab": {
   "include_colab_link": true,
   "name": "cloud_function_trigger.ipynb",
   "provenance": []
  },
  "kernelspec": {
   "display_name": "Python 3",
   "language": "python",
   "name": "python3"
  },
  "language_info": {
   "codemirror_mode": {
    "name": "ipython",
    "version": 3
   },
   "file_extension": ".py",
   "mimetype": "text/x-python",
   "name": "python",
   "nbconvert_exporter": "python",
   "pygments_lexer": "ipython3",
   "version": "3.8.6"
  }
 },
 "nbformat": 4,
 "nbformat_minor": 1
}
